{
 "cells": [
  {
   "cell_type": "code",
   "execution_count": 2,
   "metadata": {},
   "outputs": [
    {
     "data": {
      "application/vnd.jupyter.widget-view+json": {
       "model_id": "f903400009e14ef9a59e52a64563ba5f",
       "version_major": 2,
       "version_minor": 0
      },
      "text/plain": [
       "Box(children=(Output(layout=Layout(flex='auto', overflow='auto', width='100%')), Box(children=(Box(children=(L…"
      ]
     },
     "metadata": {},
     "output_type": "display_data"
    }
   ],
   "source": [
    "from Simulator import simulator, extract_selected_parameters\n",
    "from IPython.display import display\n",
    "\n",
    "\n",
    "\n",
    "UI, all_widgets_dict = simulator()\n",
    "display(UI)"
   ]
  },
  {
   "cell_type": "code",
   "execution_count": 3,
   "metadata": {},
   "outputs": [
    {
     "data": {
      "text/plain": [
       "{'num_nodes': 100,\n",
       " 'time_step': 0.1,\n",
       " 'T': 10,\n",
       " 'discretization_method': 'euler',\n",
       " 'x0': 0.0,\n",
       " 'y0': 0.0,\n",
       " 'scalling': 1.0,\n",
       " 'show_edge': True,\n",
       " 'graph_generator': 'K-Regular',\n",
       " 'graph_params': {'k': 4, 'seed_generate_k_regular': 0},\n",
       " 'position_generator': 'Spring',\n",
       " 'position_params': {'k_spring': 1,\n",
       "  'iters': 50,\n",
       "  'thresh': 10.0,\n",
       "  'seed_spring': 0},\n",
       " 'opinion_generator': 'Random',\n",
       " 'opinion_params': {'seed': 0},\n",
       " 'signal_generator': 'Identity',\n",
       " 'signal_params': {},\n",
       " 'transform_graph': 'No Transformation',\n",
       " 'transform_graph_params': {}}"
      ]
     },
     "execution_count": 3,
     "metadata": {},
     "output_type": "execute_result"
    }
   ],
   "source": [
    "extract_selected_parameters(all_widgets_dict)"
   ]
  }
 ],
 "metadata": {
  "kernelspec": {
   "display_name": "Simulator",
   "language": "python",
   "name": "python3"
  },
  "language_info": {
   "codemirror_mode": {
    "name": "ipython",
    "version": 3
   },
   "file_extension": ".py",
   "mimetype": "text/x-python",
   "name": "python",
   "nbconvert_exporter": "python",
   "pygments_lexer": "ipython3",
   "version": "3.12.9"
  }
 },
 "nbformat": 4,
 "nbformat_minor": 2
}
